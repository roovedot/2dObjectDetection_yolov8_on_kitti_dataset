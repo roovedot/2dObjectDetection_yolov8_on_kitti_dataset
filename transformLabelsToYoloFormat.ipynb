{
 "cells": [
  {
   "cell_type": "markdown",
   "metadata": {},
   "source": [
    "### Huge Credit to [oberger4711](https://github.com/oberger4711) on GitHub\n",
    "This notebook is an adaptation from oberger4711's [kitti_for_yolo](https://github.com/oberger4711/kitti_for_yolo) script."
   ]
  },
  {
   "cell_type": "markdown",
   "metadata": {},
   "source": [
    "## Imports and Variables"
   ]
  },
  {
   "cell_type": "code",
   "execution_count": null,
   "metadata": {},
   "outputs": [],
   "source": [
    "from PIL import Image\n",
    "import os\n",
    "import csv\n",
    "\n",
    "# !!! Change to the directory where your data is\n",
    "os.chdir(\"/media/roovedot/common/Pr.Inv.JavierFernandez/Labeling\")\n",
    "\n",
    "# !!! Setup Parameters\n",
    "label_dir = \"data_object_label_2/training/label_2\"  # Ruta al directorio de las etiquetas\n",
    "image_2_dir = \"data_object_image_2/training/image_2\"  # Ruta al directorio de las imágenes\n",
    "use_dont_care = True  # True if you want to keep \"DontCare\" Labels, False to ignore them\n",
    "\n",
    "\n",
    "OUT_LABELS_DIR = \"yolo_formated_labels\" # directory where the results will be stored\n",
    "\n",
    "KEY_PEDESTRIAN = \"Pedestrian\"\n",
    "KEY_CYCLIST = \"Cyclist\"\n",
    "KEY_CAR = \"Car\"\n",
    "KEY_VAN = \"Van\"\n",
    "KEY_MISC = \"Misc\"\n",
    "KEY_TRUCK = \"Truck\"\n",
    "KEY_PERSON_SITTING = \"Person_sitting\"\n",
    "KEY_TRAM = \"Tram\" # Tranvía\n",
    "KEY_DONT_CARE = \"DontCare\"\n",
    "\n",
    "CLAZZ_NUMBERS = { # Include here whatever labels you want to keep\n",
    "            KEY_PEDESTRIAN : 0,\n",
    "            KEY_CYCLIST : 1,\n",
    "            KEY_CAR : 2,\n",
    "            KEY_VAN: 3,\n",
    "            KEY_TRUCK: 4,\n",
    "            KEY_MISC: 5,\n",
    "            KEY_DONT_CARE : 6\n",
    "        }"
   ]
  },
  {
   "cell_type": "markdown",
   "metadata": {},
   "source": [
    "## Functions"
   ]
  },
  {
   "cell_type": "code",
   "execution_count": null,
   "metadata": {},
   "outputs": [],
   "source": [
    "def getSampleId(path): # gets the path to a file \"/kitti/labels/000123.txt\"\n",
    "    basename = os.path.basename(path) # selects the name of the file \"000123.txt\"\n",
    "    # os.path.splitext() returns a tuple with the name and the extension \"000123\", \".txt\"\n",
    "    return os.path.splitext(basename)[0] # returns the file name \"000123\"\n",
    "\n",
    "# Returns, for each class, Its assigned number in CLAZZ_NUMBERS\n",
    "# use_dont_care toggles saving \"DontCare\" Labels\n",
    "def resolveClazzNumberOrNone(clazz, use_dont_care):\n",
    "    if clazz in CLAZZ_NUMBERS:\n",
    "        if clazz == KEY_DONT_CARE and not use_dont_care:\n",
    "            return None\n",
    "        return CLAZZ_NUMBERS[clazz]\n",
    "    return None\n",
    "    \n",
    "# Calculates bounding bbox coordinates and size relative to the image size (Yolo format)\n",
    "def convertToYoloBBox(bbox, size):\n",
    "    # This is taken from https://pjreddie.com/media/files/voc_label.py .\n",
    "    dw = 1. / size[0]\n",
    "    dh = 1. / size[1]\n",
    "    x = (bbox[0] + bbox[1]) / 2.0\n",
    "    y = (bbox[2] + bbox[3]) / 2.0\n",
    "    w = bbox[1] - bbox[0]\n",
    "    h = bbox[3] - bbox[2]\n",
    "    x = x * dw\n",
    "    w = w * dw\n",
    "    y = y * dh\n",
    "    h = h * dh\n",
    "    return (x, y, w, h)\n",
    "\n",
    "# Loads the whole sample image and returns its size\n",
    "def readRealImageSize(img_path):\n",
    "    return Image.open(img_path).size\n",
    "\n",
    "# This is not exact for all images but most (and it should be faster).\n",
    "def readFixedImageSize():\n",
    "    return (1242, 375)\n",
    "\n",
    "def parseSample(lbl_path, img_path, use_dont_care):\n",
    "    with open(lbl_path) as csv_file: # Opens the label file\n",
    "        # assigns a name to each value in the label object\n",
    "        reader = csv.DictReader(csv_file, fieldnames=[\"type\", \"truncated\", \"occluded\", \"alpha\", \"bbox2_left\", \"bbox2_top\", \"bbox2_right\", \"bbox2_bottom\", \"bbox3_height\", \"bbox3_width\", \"bbox3_length\", \"bbox3_x\", \"bbox3_y\", \"bbox3_z\", \"bbox3_yaw\", \"score\"], delimiter=\" \")\n",
    "        yolo_labels = [] # Initialize list to store the converted labels\n",
    "        for row in reader: # Each row in the label file (kitti format) represents 1 label\n",
    "            clazz_number = resolveClazzNumberOrNone(row[\"type\"], use_dont_care) #get label type\n",
    "            if clazz_number is not None:\n",
    "                size = readRealImageSize(img_path)\n",
    "                #size = readFixedImageSize()\n",
    "                # Image coordinate is in the top left corner.\n",
    "                bbox = ( # gets data about the bbox\n",
    "                        float(row[\"bbox2_left\"]),\n",
    "                        float(row[\"bbox2_right\"]),\n",
    "                        float(row[\"bbox2_top\"]),\n",
    "                        float(row[\"bbox2_bottom\"])\n",
    "                       )\n",
    "                yolo_bbox = convertToYoloBBox(bbox, size) # converts the bbox to yolo format\n",
    "                # Yolo expects the labels in the form:\n",
    "                # <object-class> <x> <y> <width> <height>.\n",
    "                yolo_label = (clazz_number,) + yolo_bbox\n",
    "                yolo_labels.append(yolo_label)\n",
    "    return yolo_labels\n"
   ]
  },
  {
   "cell_type": "markdown",
   "metadata": {},
   "source": [
    "### Debug/test functions:"
   ]
  },
  {
   "cell_type": "code",
   "execution_count": null,
   "metadata": {},
   "outputs": [],
   "source": [
    "###-DEBUG-###\n",
    "\n",
    "classes = ['Pedestrian', 'Cyclist', 'Car', 'Van', 'Truck', 'Misc', 'DontCare']\n",
    "for i in classes:\n",
    "    print(resolveClazzNumberOrNone(i, False))"
   ]
  },
  {
   "cell_type": "markdown",
   "metadata": {},
   "source": [
    "## Main Function"
   ]
  },
  {
   "cell_type": "code",
   "execution_count": null,
   "metadata": {},
   "outputs": [],
   "source": [
    "def main(label_dir, image_2_dir, use_dont_care):\n",
    "    if not os.path.exists(OUT_LABELS_DIR):\n",
    "        os.makedirs(OUT_LABELS_DIR)\n",
    "\n",
    "    print(\"Transforming Labels into Yolo Format...\")\n",
    "    sample_img_pathes = [] \n",
    "    for dir_path, sub_dirs, files in os.walk(label_dir):\n",
    "        for file_name in files: # iterates over label files\n",
    "            if file_name.endswith(\".txt\"): # grab label files\n",
    "\n",
    "                lbl_path = os.path.join(dir_path, file_name) # gets complete route to the file\n",
    "                sample_id = getSampleId(lbl_path) # get file name/id\n",
    "\n",
    "                img_path = os.path.join(image_2_dir, \"{}.png\".format(sample_id))\n",
    "                sample_img_pathes.append(img_path) # Stores routes to each image corresponding to the labels\n",
    "\n",
    "                yolo_labels = parseSample(lbl_path, img_path, use_dont_care) # transforms labels to yolo format\n",
    "\n",
    "                # writes labels in yolo format onto files in the output folder\n",
    "                with open(os.path.join(OUT_LABELS_DIR, \"{}.txt\".format(sample_id)), \"w\") as yolo_label_file:\n",
    "                    for lbl in yolo_labels:\n",
    "                        yolo_label_file.write(\"{} {} {} {} {}\\n\".format(*lbl))\n",
    "\n",
    "    print(\"Transformation complete. All labels have been saved in YOLO format.\")\n",
    "\n",
    "# Execute main Functions\n",
    "main(label_dir, image_2_dir, use_dont_care)"
   ]
  }
 ],
 "metadata": {
  "kernelspec": {
   "display_name": "Python 3",
   "language": "python",
   "name": "python3"
  },
  "language_info": {
   "codemirror_mode": {
    "name": "ipython",
    "version": 3
   },
   "file_extension": ".py",
   "mimetype": "text/x-python",
   "name": "python",
   "nbconvert_exporter": "python",
   "pygments_lexer": "ipython3",
   "version": "3.12.3"
  }
 },
 "nbformat": 4,
 "nbformat_minor": 2
}
